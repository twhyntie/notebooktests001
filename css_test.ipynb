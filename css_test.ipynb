{
 "cells": [
  {
   "cell_type": "markdown",
   "metadata": {},
   "source": [
    "<head>\n",
    "<link rel=\"stylesheet\" type=\"text/css\" href=\"mystyle.css\">\n",
    "</head>"
   ]
  },
  {
   "cell_type": "markdown",
   "metadata": {},
   "source": [
    "<ol class=\"breadcrumb\">\n",
    "  <li><a href=\"#\">Home</a></li>\n",
    "  <li><a href=\"#\" class=\"active\">Lesson 1</a></li>\n",
    "</ol>\n",
    "# Lesson 1: Why We Code\n",
    "<br />\n",
    "Why code? Because it's better than Excel.\n",
    "\n",
    "<br />\n",
    "<div class=\"alert alert-warning\" role=\"alert\"><i>Other spreadsheet packages are available</i>.</div>"
   ]
  },
  {
   "cell_type": "code",
   "execution_count": 1,
   "metadata": {
    "collapsed": false
   },
   "outputs": [
    {
     "name": "stdout",
     "output_type": "stream",
     "text": [
      "Here, have some code too.\n"
     ]
    }
   ],
   "source": [
    "print(\"Here, have some code too.\")"
   ]
  }
 ],
 "metadata": {
  "kernelspec": {
   "display_name": "Python 2",
   "language": "python",
   "name": "python2"
  },
  "language_info": {
   "codemirror_mode": {
    "name": "ipython",
    "version": 2
   },
   "file_extension": ".py",
   "mimetype": "text/x-python",
   "name": "python",
   "nbconvert_exporter": "python",
   "pygments_lexer": "ipython2",
   "version": "2.7.11"
  }
 },
 "nbformat": 4,
 "nbformat_minor": 0
}
